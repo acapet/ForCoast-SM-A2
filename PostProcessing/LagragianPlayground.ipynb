{
 "cells": [
  {
   "cell_type": "code",
   "execution_count": null,
   "metadata": {},
   "outputs": [],
   "source": [
    "import netCDF4\n",
    "import matplotlib.pyplot as plt\n",
    "import xarray as xr\n",
    "import numpy as np\n",
    "from datetime import timedelta as delta\n",
    "\n",
    "fname = '00000003.nc'"
   ]
  },
  {
   "cell_type": "code",
   "execution_count": null,
   "metadata": {},
   "outputs": [],
   "source": [
    "data_netcdf4 = netCDF4.Dataset(fname)\n",
    "print(data_netcdf4)"
   ]
  },
  {
   "cell_type": "code",
   "execution_count": null,
   "metadata": {},
   "outputs": [],
   "source": [
    "trajectory_netcdf4 = data_netcdf4.variables['trajectory'][:]\n",
    "time_netcdf4 = data_netcdf4.variables['time'][:]\n",
    "lon_netcdf4 = data_netcdf4.variables['lon'][:]\n",
    "lat_netcdf4 = data_netcdf4.variables['lat'][:]"
   ]
  },
  {
   "cell_type": "code",
   "execution_count": null,
   "metadata": {},
   "outputs": [],
   "source": [
    "data_xarray = xr.open_dataset(fname)\n",
    "print(data_xarray)"
   ]
  },
  {
   "cell_type": "code",
   "execution_count": null,
   "metadata": {},
   "outputs": [],
   "source": [
    "np.set_printoptions(linewidth=160)\n",
    "ns_per_hour = np.timedelta64(1, 'h') # nanoseconds in an hour"
   ]
  },
  {
   "cell_type": "code",
   "execution_count": null,
   "metadata": {},
   "outputs": [],
   "source": [
    "x = data_xarray['lon'].values\n",
    "y = data_xarray['lat'].values\n",
    "distance = np.cumsum(np.sqrt(np.square(np.diff(x))+np.square(np.diff(y))),axis=1)  # d = (dx^2 + dy^2)^(1/2)\n",
    "\n",
    "real_time = data_xarray['time']\n",
    "#real_time = time_netcdf4 # convert time to hours\n",
    "time_since_release = (real_time.values.transpose() - real_time.values[:,0])/np.timedelta64(1, 'D') # substract the initial time from each timeseries\n"
   ]
  },
  {
   "cell_type": "code",
   "execution_count": null,
   "metadata": {},
   "outputs": [],
   "source": [
    "fig,(ax1,ax2) = plt.subplots(1,2,figsize=(10,4),constrained_layout=True)\n",
    "\n",
    "ax1.set_ylabel('Distance travelled [m]')\n",
    "ax1.set_xlabel('observation',weight='bold')\n",
    "d_plot = ax1.plot(distance.transpose())\n",
    "\n",
    "ax2.set_ylabel('Distance travelled [m]')\n",
    "ax2.set_xlabel('time since release [hours]',weight='bold')\n",
    "d_plot_t = ax2.plot(time_since_release[1:],distance.transpose())\n",
    "plt.show()"
   ]
  },
  {
   "cell_type": "code",
   "execution_count": null,
   "metadata": {},
   "outputs": [],
   "source": [
    "import cartopy.crs as ccrs\n",
    "\n",
    "extent = [28, 29, 43, 44.5]\n",
    "\n",
    "def start_axes(title, extent=extent, fig=None, sp=None):\n",
    "    if fig is None:\n",
    "        fig = plt.figure(figsize=(13, 5))\n",
    "        \n",
    "    if sp is None:\n",
    "        ax = fig.add_axes([0.03, 0.03, 0.90, 0.94],projection=ccrs.PlateCarree())\n",
    "    else:\n",
    "        ax = fig.add_subplot(sp,projection=ccrs.PlateCarree())\n",
    "            \n",
    "    ax.set_extent(extent)\n",
    "    ax.gridlines()\n",
    "    ax.coastlines(resolution='10m')\n",
    "    #ax.set_xlim(-6, 36.5), ax.set_ylim(30, 46)\n",
    "    #ax.set_aspect(\"equal\")\n",
    "    ax.set_title(title)\n",
    "    ax.gridlines(xlocs=range(25,42,1), ylocs=range(40,48,1),draw_labels=True)#\n",
    "    return ax\n"
   ]
  },
  {
   "cell_type": "code",
   "execution_count": null,
   "metadata": {},
   "outputs": [],
   "source": [
    "outputdt = delta(hours=6)\n",
    "timerange = np.arange(np.nanmin(data_xarray['time'].values),\n",
    "                      np.nanmax(data_xarray['time'].values)+np.timedelta64(outputdt), \n",
    "                      outputdt) # timerange in nanoseconds"
   ]
  },
  {
   "cell_type": "code",
   "execution_count": null,
   "metadata": {},
   "outputs": [],
   "source": [
    "t = timerange[0]\n",
    "np.datetime_as_string(t, unit='m')"
   ]
  },
  {
   "cell_type": "code",
   "execution_count": null,
   "metadata": {},
   "outputs": [],
   "source": [
    "from matplotlib.animation import FuncAnimation\n",
    "\n",
    "# %%capture\n",
    "fig = plt.figure(figsize=(10,5))\n",
    "\n",
    "ax1=start_axes('test', fig=fig,sp='121', extent=[28, 29.5, 43, 44.5])\n",
    "ax2=start_axes('test', fig=fig,sp='122', extent=[28.5, 29, 43.8, 44.5])\n",
    "\n",
    "time_id = np.where(data_xarray['time'] == timerange[0]) # Indices of the data where time = 0\n",
    "scat1 = ax1.scatter(data_xarray['lon'].values[time_id],\n",
    "                     data_xarray['lat'].values[time_id],10,\n",
    "                    time_since_release.transpose()[time_id], vmin=0,vmax=10)\n",
    "\n",
    "#clb1 =plt.colorbar(scat1)\n",
    "#clb1.ax.set_xlabel('Age [d]')\n",
    "\n",
    "scat2 = ax2.scatter(data_xarray['lon'].values[time_id],\n",
    "                     data_xarray['lat'].values[time_id],10,\n",
    "                    time_since_release.transpose()[time_id], vmin=0,vmax=10)\n",
    "\n",
    "clb2 =plt.colorbar(scat2)\n",
    "clb2.ax.set_xlabel('Age [d]')\n",
    "\n",
    "t = np.datetime_as_string(timerange[0], unit='m')\n",
    "title = ax1.set_title('Particles at t = '+t)\n",
    "\n",
    "def animate(i):\n",
    "    t = np.datetime_as_string(timerange[i], unit='m')\n",
    "    title.set_text('Particles at t = '+t)\n",
    "    \n",
    "    time_id = np.where(data_xarray['time'] == timerange[i])\n",
    "    scat1.set_offsets(np.c_[data_xarray['lon'].values[time_id], data_xarray['lat'].values[time_id]])\n",
    "    scat1.set_array(time_since_release.transpose()[time_id])\n",
    "    scat2.set_offsets(np.c_[data_xarray['lon'].values[time_id], data_xarray['lat'].values[time_id]])\n",
    "    scat2.set_array(time_since_release.transpose()[time_id])\n",
    " #   scatter = ax.scatter(data_xarray['lon'].values[time_id],\n",
    " #                    data_xarray['lat'].values[time_id],10,\n",
    " #                   time_since_release.transpose()[time_id], vmin=0,vmax=10)\n",
    "    \n",
    "anim = FuncAnimation(fig, animate, frames = len(timerange), interval=500)\n",
    "\n"
   ]
  },
  {
   "cell_type": "code",
   "execution_count": null,
   "metadata": {},
   "outputs": [],
   "source": [
    "from IPython.display import HTML\n",
    "HTML(anim.to_jshtml())"
   ]
  },
  {
   "cell_type": "code",
   "execution_count": null,
   "metadata": {},
   "outputs": [],
   "source": [
    "anim.save('003.mp4', fps=15, extra_args=['-vcodec', 'libx264'])"
   ]
  },
  {
   "cell_type": "code",
   "execution_count": null,
   "metadata": {},
   "outputs": [],
   "source": [
    "# subset of particles within a box. \n",
    "box_extent = [28.6611, 28.6617, 44.0535,44.0553 ]\n",
    "\n",
    "def partinbox(i):\n",
    "    box_id = np.where( (data_xarray['lon'] > box_extent[0])&\n",
    "                       (data_xarray['lon'] < box_extent[1])&\n",
    "                       (data_xarray['lat'] > box_extent[2])&\n",
    "                       (data_xarray['lat'] > box_extent[3])&\n",
    "                       (data_xarray['time'] == timerange[i]))\n",
    "    #age = [np.mean(time_since_release.transpose()[box_id]  )]\n",
    "    ages = time_since_release.transpose()[box_id]\n",
    "    return(ages)\n"
   ]
  },
  {
   "cell_type": "code",
   "execution_count": null,
   "metadata": {},
   "outputs": [],
   "source": [
    "labels=[]\n",
    "ages=[]\n",
    "\n",
    "for i,t in enumerate(timerange):\n",
    "    ages.append(partinbox(i))\n",
    "    labels.append(np.datetime_as_string(t, unit='D')) \n"
   ]
  },
  {
   "cell_type": "code",
   "execution_count": null,
   "metadata": {},
   "outputs": [],
   "source": [
    "fig = plt.figure(figsize=(10,5))\n",
    "ax = fig.add_axes([0.03, 0.03, 0.90, 0.94], title='Age Distribution in box')\n",
    "\n",
    "ax.boxplot(ages,labels=labels)\n",
    "plt.xticks(rotation='vertical')\n",
    "ax.set_ylabel('Age [d]')\n"
   ]
  },
  {
   "cell_type": "code",
   "execution_count": null,
   "metadata": {},
   "outputs": [],
   "source": [
    "from matplotlib.animation import FuncAnimation\n",
    "\n",
    "# %%capture\n",
    "fig2 = plt.figure(figsize=(10,10))\n",
    "\n",
    "ax1 = start_axes('Large', fig=fig2,sp='221', extent=[28, 29.5, 43, 44.5])\n",
    "ax2 = start_axes('Zoom', fig=fig2,sp='222', extent=[28.6, 28.9, 43.9, 44.5])\n",
    "ax3 = fig2.add_subplot('212')\n",
    "\n",
    "time_id = np.where(data_xarray['time'] == timerange[0]) # Indices of the data where time = 0\n",
    "scat1 = ax1.scatter(data_xarray['lon'].values[time_id],\n",
    "                     data_xarray['lat'].values[time_id],10,\n",
    "                    time_since_release.transpose()[time_id], vmin=0,vmax=10)\n",
    "\n",
    "#clb1 =plt.colorbar(scat1)\n",
    "#clb1.ax.set_xlabel('Age [d]')\n",
    "\n",
    "scat2 = ax2.scatter(data_xarray['lon'].values[time_id],\n",
    "                     data_xarray['lat'].values[time_id],10,\n",
    "                    time_since_release.transpose()[time_id], vmin=0,vmax=10)\n",
    "\n",
    "fig2.subplots_adjust(right=0.8)\n",
    "cbar_ax = fig2.add_axes([0.85, 0.15, 0.05, 0.7])\n",
    "clb2 = fig2.colorbar(scat2, cax=cbar_ax)\n",
    "clb2.ax.set_xlabel('Age [d]')\n",
    "\n",
    "box3  = ax3.boxplot(partinbox(0), labels= [np.datetime_as_string(timerange[0], unit='h')])\n",
    "ax3.tick_params(labelrotation=90)\n",
    "ax3.set_ylabel('Age [d]')\n",
    "ax3.set_xlim( np.datetime_as_string(timerange[0], unit='h') , np.datetime_as_string(timerange[-1], unit='h')     )\n",
    "\n",
    "t = np.datetime_as_string(timerange[0], unit='m')\n",
    "title = ax.set_title('Particles at t = '+t)\n",
    "\n",
    "labels=[]\n",
    "ages=[]\n",
    "\n",
    "def animate(i):\n",
    "    t = np.datetime_as_string(timerange[i], unit='m')\n",
    "    title.set_text('Particles at t = '+t)\n",
    "    \n",
    "    time_id = np.where(data_xarray['time'] == timerange[i])\n",
    "    scat1.set_offsets(np.c_[data_xarray['lon'].values[time_id], data_xarray['lat'].values[time_id]])\n",
    "    scat1.set_array(time_since_release.transpose()[time_id])\n",
    "    scat2.set_offsets(np.c_[data_xarray['lon'].values[time_id], data_xarray['lat'].values[time_id]])\n",
    "    scat2.set_array(time_since_release.transpose()[time_id])\n",
    "    \n",
    "    ages.append(partinbox(i))\n",
    "    labels.append(np.datetime_as_string(timerange[i], unit='D')) \n",
    "    ax3.cla()\n",
    "    box3  = ax3.boxplot(ages, labels= labels)\n",
    "    ax3.tick_params(labelrotation=90)\n",
    "    ax3.set_ylabel('Age [d]')\n",
    "    ax3.set_title('Age Distribution in box')\n",
    "    \n",
    "anim = FuncAnimation(fig2, animate, frames = len(timerange), interval=500)\n"
   ]
  },
  {
   "cell_type": "code",
   "execution_count": null,
   "metadata": {},
   "outputs": [],
   "source": [
    "labels=[]\n",
    "ages=[]\n",
    "\n",
    "HTML(anim.to_jshtml())"
   ]
  },
  {
   "cell_type": "code",
   "execution_count": null,
   "metadata": {},
   "outputs": [],
   "source": [
    "labels=[]\n",
    "ages=[]\n",
    "anim.save('003_aged.mp4', fps=5, extra_args=['-vcodec', 'libx264'])"
   ]
  }
 ],
 "metadata": {
  "kernelspec": {
   "display_name": "3.8.3",
   "language": "python",
   "name": "3.8.3"
  },
  "language_info": {
   "codemirror_mode": {
    "name": "ipython",
    "version": 3
   },
   "file_extension": ".py",
   "mimetype": "text/x-python",
   "name": "python",
   "nbconvert_exporter": "python",
   "pygments_lexer": "ipython3",
   "version": "3.8.3"
  }
 },
 "nbformat": 4,
 "nbformat_minor": 4
}
